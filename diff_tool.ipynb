{
 "cells": [
  {
   "cell_type": "markdown",
   "id": "32932703",
   "metadata": {},
   "source": [
    "# Function Definitions"
   ]
  },
  {
   "cell_type": "code",
   "execution_count": null,
   "id": "3a52c996",
   "metadata": {},
   "outputs": [],
   "source": [
    "import os\n",
    "import datetime\n",
    "import math"
   ]
  },
  {
   "cell_type": "code",
   "execution_count": null,
   "id": "6f0df80a",
   "metadata": {},
   "outputs": [],
   "source": [
    "def LCS_helper(string1, string2,arr:list[list],i,j):\n",
    "    if i == 0 or j == 0:\n",
    "        return 0\n",
    "    if arr[i][j] != 0:\n",
    "        return arr[i-1][j-1]\n",
    "    if string1[j-1] == string2[i-1]:\n",
    "        arr[i][j] = 1 + LCS_helper(string1,string2,arr,i-1,j-1)\n",
    "    else:\n",
    "        arr[i][j] = max(LCS_helper(string1,string2,arr,i-1,j),LCS_helper(string1,string2,arr,i,j-1))\n",
    "    return arr[i][j]\n",
    "\n",
    "\n",
    "def diff(string1,string2):\n",
    "    length1 = len(string1)\n",
    "    length2 = len(string2)\n",
    "    arr = [[0] * (length1+1) for _ in range (length2+1)]\n",
    "    LCS_helper(string1,string2,arr,length2,length1)\n",
    "    i= length2\n",
    "    j= length1\n",
    "    inserted = \"\"\n",
    "    deleted = \"\"\n",
    "    while i > 0 and j > 0:\n",
    "        if string1[j-1] == string2[i-1]:\n",
    "            i -=1\n",
    "            j -=1\n",
    "        elif arr[i-1][j] > arr[i][j-1]:\n",
    "            inserted += string2[i-1]\n",
    "            i -=1\n",
    "        else:\n",
    "            deleted += string1[j-1]\n",
    "            j -=1\n",
    "    if inserted != \"\":\n",
    "        print(\"{} is {} \".format(inserted[::-1],\"inserted\"))\n",
    "    if deleted != \"\":\n",
    "        print(\"{} is {} \".format(deleted[::-1],\"deleted\"))\n",
    "        "
   ]
  },
  {
   "cell_type": "markdown",
   "id": "39ca8750",
   "metadata": {},
   "source": [
    "# Reading files"
   ]
  },
  {
   "cell_type": "code",
   "execution_count": null,
   "id": "458464ea",
   "metadata": {},
   "outputs": [],
   "source": [
    "\n",
    "def take_diff(file_A,file_B):\n",
    "    lines1 = []\n",
    "    lines2 = []\n",
    "    count_line = 1\n",
    "    try:\n",
    "        \n",
    "        with open(file_A,\"r\",encoding = 'UTF-8') as f:\n",
    "            for line in f:\n",
    "                lines1.append(line)\n",
    "        \n",
    "        with open(file_B,\"r\",encoding = 'UTF-8') as f:\n",
    "            for line in f:\n",
    "                lines2.append(line)\n",
    "    \n",
    "        for line1,line2 in zip(lines1,lines2):\n",
    "            print(\"{}:\".format(count_line))\n",
    "            diff(line1,line2)\n",
    "            count_line = count_line +1\n",
    "        if len(lines1) > len(lines2):\n",
    "            for i in range(len(lines1)-len(lines2)+1,len(lines1)):\n",
    "                print (\"{}:{} (Deleted)\".format(count_line,lines1[i]))\n",
    "                count_line = count_line + 1\n",
    "        elif len(lines2) > len(lines1):\n",
    "             for i in range(len(lines2)-len(lines1)+1,len(lines2)):\n",
    "                print (\"{}:{} (inserted)\".format(count_line,lines2[i]))\n",
    "                count_line = count_line + 1\n",
    "    except FileError as e:\n",
    "        print(e)\n",
    "        \n",
    "            \n",
    "       \n"
   ]
  },
  {
   "cell_type": "markdown",
   "id": "1578fcee",
   "metadata": {},
   "source": [
    "# Function Calling "
   ]
  },
  {
   "cell_type": "code",
   "execution_count": null,
   "id": "f8f01a1e",
   "metadata": {},
   "outputs": [],
   "source": [
    "take_diff(\"a.txt\",\"b.txt\")\n",
    "\n",
    "\n"
   ]
  },
  {
   "cell_type": "code",
   "execution_count": null,
   "id": "6d0f8ab9",
   "metadata": {},
   "outputs": [],
   "source": [
    "\n",
    "\n"
   ]
  },
  {
   "cell_type": "code",
   "execution_count": null,
   "id": "a80db28f",
   "metadata": {},
   "outputs": [],
   "source": [
    "\n"
   ]
  },
  {
   "cell_type": "code",
   "execution_count": null,
   "id": "23063a91",
   "metadata": {},
   "outputs": [],
   "source": []
  }
 ],
 "metadata": {
  "kernelspec": {
   "display_name": "Python 3 (ipykernel)",
   "language": "python",
   "name": "python3"
  },
  "language_info": {
   "codemirror_mode": {
    "name": "ipython",
    "version": 3
   },
   "file_extension": ".py",
   "mimetype": "text/x-python",
   "name": "python",
   "nbconvert_exporter": "python",
   "pygments_lexer": "ipython3",
   "version": "3.11.3"
  }
 },
 "nbformat": 4,
 "nbformat_minor": 5
}
